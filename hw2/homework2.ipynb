{
 "cells": [
  {
   "cell_type": "code",
   "execution_count": 4,
   "id": "54b358f7",
   "metadata": {},
   "outputs": [],
   "source": [
    "import pandas as pd \n",
    "\n",
    "bike_day = pd.read_csv('day.csv')\n"
   ]
  },
  {
   "cell_type": "code",
   "execution_count": 5,
   "id": "6535a6c2",
   "metadata": {},
   "outputs": [
    {
     "name": "stdout",
     "output_type": "stream",
     "text": [
      "                            OLS Regression Results                            \n",
      "==============================================================================\n",
      "Dep. Variable:                    cnt   R-squared:                       0.394\n",
      "Model:                            OLS   Adj. R-squared:                  0.393\n",
      "Method:                 Least Squares   F-statistic:                     473.5\n",
      "Date:                Wed, 01 Oct 2025   Prob (F-statistic):           2.81e-81\n",
      "Time:                        22:28:52   Log-Likelihood:                -6386.8\n",
      "No. Observations:                 731   AIC:                         1.278e+04\n",
      "Df Residuals:                     729   BIC:                         1.279e+04\n",
      "Df Model:                           1                                         \n",
      "Covariance Type:            nonrobust                                         \n",
      "==============================================================================\n",
      "                 coef    std err          t      P>|t|      [0.025      0.975]\n",
      "------------------------------------------------------------------------------\n",
      "const       1214.6421    161.164      7.537      0.000     898.242    1531.042\n",
      "temp        6640.7100    305.188     21.759      0.000    6041.558    7239.862\n",
      "==============================================================================\n",
      "Omnibus:                       20.477   Durbin-Watson:                   0.468\n",
      "Prob(Omnibus):                  0.000   Jarque-Bera (JB):               12.566\n",
      "Skew:                           0.167   Prob(JB):                      0.00187\n",
      "Kurtosis:                       2.452   Cond. No.                         6.85\n",
      "==============================================================================\n",
      "\n",
      "Notes:\n",
      "[1] Standard Errors assume that the covariance matrix of the errors is correctly specified.\n"
     ]
    }
   ],
   "source": [
    "import statsmodels.api as sm\n",
    "\n",
    "temp_predictor = bike_day['temp']\n",
    "temp_predictor = sm.add_constant(temp_predictor)\n",
    "bikers = bike_day['cnt']\n",
    "\n",
    "model = sm.OLS(bikers,temp_predictor)\n",
    "\n",
    "results = model.fit()\n",
    "\n",
    "print(results.summary())"
   ]
  },
  {
   "cell_type": "code",
   "execution_count": null,
   "id": "1aa94d66",
   "metadata": {},
   "outputs": [],
   "source": []
  }
 ],
 "metadata": {
  "kernelspec": {
   "display_name": "islp",
   "language": "python",
   "name": "python3"
  },
  "language_info": {
   "codemirror_mode": {
    "name": "ipython",
    "version": 3
   },
   "file_extension": ".py",
   "mimetype": "text/x-python",
   "name": "python",
   "nbconvert_exporter": "python",
   "pygments_lexer": "ipython3",
   "version": "3.13.5"
  }
 },
 "nbformat": 4,
 "nbformat_minor": 5
}
